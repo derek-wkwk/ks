{
 "cells": [
  {
   "cell_type": "code",
   "execution_count": 1,
   "metadata": {},
   "outputs": [],
   "source": [
    "# Import Library\n",
    "import numpy as np \n",
    "import pandas as pd \n",
    "import matplotlib.pyplot as plt\n",
    "\n",
    "from matplotlib.patches import ArrowStyle\n",
    "from scipy import stats\n",
    "from sklearn.ensemble import RandomForestClassifier"
   ]
  },
  {
   "cell_type": "code",
   "execution_count": 2,
   "metadata": {},
   "outputs": [],
   "source": [
    "X_train = pd.read_csv('X_train.csv')\n",
    "y_train = pd.read_csv('y_train.csv')"
   ]
  },
  {
   "cell_type": "code",
   "execution_count": 3,
   "metadata": {},
   "outputs": [
    {
     "name": "stderr",
     "output_type": "stream",
     "text": [
      "/usr/local/var/pyenv/versions/3.7.2/lib/python3.7/site-packages/ipykernel_launcher.py:8: DataConversionWarning: A column-vector y was passed when a 1d array was expected. Please change the shape of y to (n_samples,), for example using ravel().\n",
      "  \n"
     ]
    },
    {
     "data": {
      "text/plain": [
       "RandomForestClassifier(bootstrap=True, class_weight=None, criterion='gini',\n",
       "            max_depth=25, max_features='auto', max_leaf_nodes=None,\n",
       "            min_impurity_decrease=0.0, min_impurity_split=None,\n",
       "            min_samples_leaf=1, min_samples_split=15,\n",
       "            min_weight_fraction_leaf=0.0, n_estimators=50, n_jobs=4,\n",
       "            oob_score=False, random_state=0, verbose=0, warm_start=False)"
      ]
     },
     "execution_count": 3,
     "metadata": {},
     "output_type": "execute_result"
    }
   ],
   "source": [
    "# Building sample model\n",
    "clf= RandomForestClassifier(bootstrap=True, class_weight=None, criterion='gini',\n",
    "            max_depth=25, max_features='auto', max_leaf_nodes=None,\n",
    "            min_impurity_decrease=0.0, min_impurity_split=None,\n",
    "            min_samples_leaf=1, min_samples_split=15,\n",
    "            min_weight_fraction_leaf=0.0, n_estimators=50, n_jobs=4,\n",
    "            oob_score=False, random_state=0, verbose=0, warm_start=False)\n",
    "\n",
    "clf.fit(X_train, y_train)"
   ]
  },
  {
   "cell_type": "code",
   "execution_count": 53,
   "metadata": {},
   "outputs": [
    {
     "name": "stdout",
     "output_type": "stream",
     "text": [
      "          0  y\n",
      "0  0.891448  0\n",
      "1  0.042604  1\n",
      "2  0.467200  1\n",
      "3  0.016613  1\n",
      "4  0.989407  0\n"
     ]
    }
   ],
   "source": [
    "# Prediction \n",
    "pre=clf.predict_proba(X_train)\n",
    "pre_pd = pd.DataFrame(pre[:,0])\n",
    "pre_pd['y'] = y_train\n",
    "print(pre_pd.head())"
   ]
  },
  {
   "cell_type": "code",
   "execution_count": 10,
   "metadata": {},
   "outputs": [],
   "source": [
    "\n",
    "pre_good=pre_pd[pre_pd.y==0]\n",
    "pre_bad=pre_pd[pre_pd.y==1]"
   ]
  },
  {
   "cell_type": "code",
   "execution_count": 41,
   "metadata": {},
   "outputs": [
    {
     "name": "stdout",
     "output_type": "stream",
     "text": [
      "Ks_2sampResult(statistic=0.7843447416355096, pvalue=5.132844304914007e-115)\n",
      "0.7843447416355096\n",
      "5.132844304914007e-115\n"
     ]
    }
   ],
   "source": [
    "# KS \n",
    "ks=stats.ks_2samp(pri_good[0].values,pri_bad[0].values)\n",
    "print (ks)\n",
    "print(ks[0])\n",
    "print(ks[1])"
   ]
  },
  {
   "cell_type": "code",
   "execution_count": 55,
   "metadata": {},
   "outputs": [],
   "source": [
    "# Score and Accumulate\n",
    "cumulative_good = np.add.accumulate(pri_good) / pri_good.sum()\n",
    "cumulative_good = cumulative_good[0]\n",
    "score_good = pri_good.sort_values(by=0)\n",
    "score_good = score_good[0]\n",
    "\n",
    "cumulative_bad = np.add.accumulate(pri_bad) / pri_bad.sum()\n",
    "cumulative_bad = cumulative_bad[0]\n",
    "score_bad = pri_bad.sort_values(by=0)\n",
    "score_bad = score_bad[0]"
   ]
  },
  {
   "cell_type": "code",
   "execution_count": 59,
   "metadata": {},
   "outputs": [
    {
     "data": {
      "image/png": "[encoded data removed]",
      "text/plain": [
       "<Figure size 432x288 with 1 Axes>"
      ]
     },
     "metadata": {
      "needs_background": "light"
     },
     "output_type": "display_data"
    }
   ],
   "source": [
    "fig = plt.figure()\n",
    "ax = fig.add_subplot(111)\n",
    "ax.plot(score_good,cumulative_good, color='r',label='Good')\n",
    "ax.plot(score_bad ,cumulative_bad, color='b',label='Bad')\n",
    "\n",
    "arrow_style_list = [\n",
    "        ArrowStyle('<|-|>', head_length=1, head_width=1)\n",
    "        ]\n",
    "    \n",
    "point = {\n",
    "        'start': [0.5, 0.1],\n",
    "        'end': [0.5, 0.8]\n",
    "        }\n",
    "\n",
    "ax.annotate('', xy=point['end'], xytext=point['start'], xycoords='data',\n",
    "            arrowprops=dict(arrowstyle=ArrowStyle('<|-|>', head_length=0.5, head_width=0.5), \n",
    "                            connectionstyle='arc3', \n",
    "                            facecolor='y', \n",
    "                            edgecolor='y'\n",
    "                           )\n",
    "               )\n",
    "\n",
    "ax.set_title('Kolmogorov–Smirnov test')\n",
    "ax.set_xlabel('Score(Probability)')\n",
    "ax.set_ylabel('Accumlate %')\n",
    "ax.legend()\n",
    "\n",
    "\n",
    "# plt.savefig('ks_graph1.png')"
   ]
  },
  {
   "cell_type": "code",
   "execution_count": 132,
   "metadata": {},
   "outputs": [
    {
     "name": "stdout",
     "output_type": "stream",
     "text": [
      "            0\n",
      "0.0  0.000000\n",
      "0.1  0.598406\n",
      "0.2  0.752527\n",
      "0.3  0.810827\n",
      "0.4  0.854746\n",
      "0.5  0.894150\n",
      "0.6  0.914538\n",
      "0.7  0.935213\n",
      "0.8  0.948343\n",
      "0.9  0.974172\n",
      "1.0  1.000000\n"
     ]
    }
   ],
   "source": [
    "# Decile \n",
    "decile = np.arange(0.0, 1.1, 0.1)\n",
    "\n",
    "score_good_decile = pd.DataFrame(score_good.quantile(decile))\n",
    "score_bad_decile= pd.DataFrame(score_bad.quantile(decile))\n",
    "\n",
    "score_good_decile.iloc[0,0] =0\n",
    "score_good_decile.iloc[10,0] =1\n",
    "\n",
    "print(score_good_decile)"
   ]
  },
  {
   "cell_type": "code",
   "execution_count": 180,
   "metadata": {},
   "outputs": [],
   "source": [
    "good_df = pd.DataFrame()\n",
    "\n",
    "for i in range(0,11):\n",
    "    tmp_good_df = pri_good[pri_good[0] <=  score_good_decile.iloc[i,0]]\n",
    "    a = tmp_good_df[0].count() / score_good.count()\n",
    "    tmp_se = pd.Series([a])\n",
    "    good_df = good_df.append( tmp_se, ignore_index=True )\n",
    "\n",
    "good_df = good_df.rename(columns={0: 'good'})"
   ]
  },
  {
   "cell_type": "code",
   "execution_count": 162,
   "metadata": {},
   "outputs": [],
   "source": [
    "bad_df = pd.DataFrame()\n",
    "\n",
    "for i in range(0,11):\n",
    "    tmp_bad_df = pri_bad[pri_bad[0] <=  score_good_decile.iloc[i,0]]\n",
    "    a = tmp_bad_df[0].count() / score_bad.count()\n",
    "    tmp_se = pd.Series([a])\n",
    "    bad_df = bad_df.append( tmp_se, ignore_index=True )\n",
    "    \n",
    "bad_df = bad_df.rename(columns={0: 'bad'})"
   ]
  },
  {
   "cell_type": "code",
   "execution_count": 169,
   "metadata": {},
   "outputs": [
    {
     "data": {
      "text/html": [
       "<div>\n",
       "<style scoped>\n",
       "    .dataframe tbody tr th:only-of-type {\n",
       "        vertical-align: middle;\n",
       "    }\n",
       "\n",
       "    .dataframe tbody tr th {\n",
       "        vertical-align: top;\n",
       "    }\n",
       "\n",
       "    .dataframe thead th {\n",
       "        text-align: right;\n",
       "    }\n",
       "</style>\n",
       "<table border=\"1\" class=\"dataframe\">\n",
       "  <thead>\n",
       "    <tr style=\"text-align: right;\">\n",
       "      <th></th>\n",
       "      <th>good</th>\n",
       "      <th>bad</th>\n",
       "      <th>dif</th>\n",
       "    </tr>\n",
       "  </thead>\n",
       "  <tbody>\n",
       "    <tr>\n",
       "      <th>0</th>\n",
       "      <td>0.000000</td>\n",
       "      <td>0</td>\n",
       "      <td>0</td>\n",
       "    </tr>\n",
       "    <tr>\n",
       "      <th>1</th>\n",
       "      <td>0.100182</td>\n",
       "      <td>0.880117</td>\n",
       "      <td>0.779935</td>\n",
       "    </tr>\n",
       "    <tr>\n",
       "      <th>2</th>\n",
       "      <td>0.200364</td>\n",
       "      <td>0.947368</td>\n",
       "      <td>0.747004</td>\n",
       "    </tr>\n",
       "    <tr>\n",
       "      <th>3</th>\n",
       "      <td>0.300546</td>\n",
       "      <td>0.979532</td>\n",
       "      <td>0.678986</td>\n",
       "    </tr>\n",
       "    <tr>\n",
       "      <th>4</th>\n",
       "      <td>0.400729</td>\n",
       "      <td>0.991228</td>\n",
       "      <td>0.590499</td>\n",
       "    </tr>\n",
       "    <tr>\n",
       "      <th>5</th>\n",
       "      <td>0.500911</td>\n",
       "      <td>0.994152</td>\n",
       "      <td>0.493241</td>\n",
       "    </tr>\n",
       "    <tr>\n",
       "      <th>6</th>\n",
       "      <td>0.599271</td>\n",
       "      <td>1</td>\n",
       "      <td>0.400729</td>\n",
       "    </tr>\n",
       "    <tr>\n",
       "      <th>7</th>\n",
       "      <td>0.699454</td>\n",
       "      <td>1</td>\n",
       "      <td>0.300546</td>\n",
       "    </tr>\n",
       "    <tr>\n",
       "      <th>8</th>\n",
       "      <td>0.799636</td>\n",
       "      <td>1</td>\n",
       "      <td>0.200364</td>\n",
       "    </tr>\n",
       "    <tr>\n",
       "      <th>9</th>\n",
       "      <td>0.899818</td>\n",
       "      <td>1</td>\n",
       "      <td>0.100182</td>\n",
       "    </tr>\n",
       "    <tr>\n",
       "      <th>10</th>\n",
       "      <td>1.000000</td>\n",
       "      <td>1</td>\n",
       "      <td>0</td>\n",
       "    </tr>\n",
       "  </tbody>\n",
       "</table>\n",
       "</div>"
      ],
      "text/plain": [
       "        good       bad       dif\n",
       "0   0.000000         0         0\n",
       "1   0.100182  0.880117  0.779935\n",
       "2   0.200364  0.947368  0.747004\n",
       "3   0.300546  0.979532  0.678986\n",
       "4   0.400729  0.991228  0.590499\n",
       "5   0.500911  0.994152  0.493241\n",
       "6   0.599271         1  0.400729\n",
       "7   0.699454         1  0.300546\n",
       "8   0.799636         1  0.200364\n",
       "9   0.899818         1  0.100182\n",
       "10  1.000000         1         0"
      ]
     },
     "execution_count": 169,
     "metadata": {},
     "output_type": "execute_result"
    }
   ],
   "source": [
    "# Add difference\n",
    "total_df = good_df\n",
    "total_df['bad'] = bad_df['bad']\n",
    "total_df['dif'] = bad_df['bad'] - good_df['good'] \n",
    "total_df"
   ]
  },
  {
   "cell_type": "code",
   "execution_count": 46,
   "metadata": {},
   "outputs": [
    {
     "name": "stdout",
     "output_type": "stream",
     "text": [
      "0.7799348097018503\n",
      "1\n"
     ]
    }
   ],
   "source": [
    "ks = bad_df - good_df\n",
    "ks_max=ks.max()[0]\n",
    "ks_index=ks.idxmax()[0]\n",
    "\n",
    "print(ks_max)\n",
    "print(ks_index)"
   ]
  },
  {
   "cell_type": "code",
   "execution_count": 176,
   "metadata": {},
   "outputs": [],
   "source": [
    "y_start = good_df.iat[ks_index, 0]\n",
    "y_end = bad_df.iat[ks_index, 0]\n",
    "x_start = ks_index / 10"
   ]
  },
  {
   "cell_type": "code",
   "execution_count": 182,
   "metadata": {},
   "outputs": [
    {
     "data": {
      "image/png": "[encoded data removed]",
      "text/plain": [
       "<Figure size 432x288 with 1 Axes>"
      ]
     },
     "metadata": {
      "needs_background": "light"
     },
     "output_type": "display_data"
    }
   ],
   "source": [
    "fig = plt.figure()\n",
    "ax = fig.add_subplot(111)\n",
    "\n",
    "ax.plot(decile,good_df, color='r', marker='o')\n",
    "ax.plot(decile,bad_df, color='b', marker='o')\n",
    "\n",
    "arrow_style_list = [\n",
    "        ArrowStyle('<|-|>', head_length=1, head_width=1)\n",
    "        ]\n",
    "    \n",
    "point = {\n",
    "        'start': [x_start, y_start],\n",
    "        'end': [x_start, y_end]\n",
    "        }\n",
    "\n",
    "\n",
    "ax.annotate('', xy=point['end'], xytext=point['start'], xycoords='data',\n",
    "            arrowprops=dict(arrowstyle=ArrowStyle('<|-|>', head_length=0.5, head_width=0.5), \n",
    "                            connectionstyle='arc3', \n",
    "                            facecolor='y', \n",
    "                            edgecolor='y'\n",
    "                           )\n",
    "               )\n",
    "\n",
    "ax.text(x_start + 0.05, y_end /2, 'KS max = ' + str(f'{ks_max:.4g}'))\n",
    "ax.set_xticks(decile)\n",
    "ax.set_title('Cumulative distribution of bads and goods per score decile')\n",
    "ax.set_xlabel('Score(decile)')\n",
    "ax.set_ylabel('Accumlate %')\n",
    "fig.show()\n",
    "\n",
    "# plt.savefig('ks_graph2.png')"
   ]
  },
  {
   "cell_type": "code",
   "execution_count": 172,
   "metadata": {},
   "outputs": [],
   "source": [
    "good_df2 = pre_good\n",
    "good_df2['score'] = 0\n",
    "\n",
    "bad_df2 = pre_bad\n",
    "bad_df2['score'] = 0"
   ]
  },
  {
   "cell_type": "code",
   "execution_count": 173,
   "metadata": {},
   "outputs": [],
   "source": [
    "for i in range(0,11):\n",
    "    good_df2.loc[(good_df2[0] <=score_good_decile.iloc[i,0]) & (good_df2['score']==0) , 'score'] = i/10\n",
    "\n",
    "\n",
    "for i in range(0,11):\n",
    "    bad_df2.loc[(bad_df2[0] <=score_good_decile.iloc[i,0]) & (bad_df2['score']==0) , 'score'] = i/10"
   ]
  },
  {
   "cell_type": "code",
   "execution_count": 174,
   "metadata": {},
   "outputs": [
    {
     "name": "stdout",
     "output_type": "stream",
     "text": [
      "Ks_2sampResult(statistic=0.7799348097018503, pvalue=9.8922304125642e-114)\n",
      "0.7799348097018503\n",
      "9.8922304125642e-114\n"
     ]
    }
   ],
   "source": [
    "ks2=stats.ks_2samp(good_df2['score'].values,bad_df2['score'].values)\n",
    "print (ks2)\n",
    "print(ks2[0])\n",
    "print(ks2[1])"
   ]
  },
  {
   "cell_type": "code",
   "execution_count": null,
   "metadata": {},
   "outputs": [],
   "source": []
  }
 ],
 "metadata": {
  "kernelspec": {
   "display_name": "Python 3",
   "language": "python",
   "name": "python3"
  },
  "language_info": {
   "codemirror_mode": {
    "name": "ipython",
    "version": 3
   },
   "file_extension": ".py",
   "mimetype": "text/x-python",
   "name": "python",
   "nbconvert_exporter": "python",
   "pygments_lexer": "ipython3",
   "version": "3.7.2"
  }
 },
 "nbformat": 4,
 "nbformat_minor": 2
}
